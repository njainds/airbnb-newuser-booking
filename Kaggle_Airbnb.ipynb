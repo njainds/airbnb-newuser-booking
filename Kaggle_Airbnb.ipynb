{
 "cells": [
  {
   "cell_type": "code",
   "execution_count": 1,
   "metadata": {
    "collapsed": false
   },
   "outputs": [],
   "source": [
    "import os\n",
    "import pandas as pd\n",
    "import numpy as np\n",
    "from scipy import stats\n",
    "import matplotlib.pyplot as plt\n",
    "from subprocess import check_output \n",
    "import sys\n",
    "from datetime import datetime\n",
    "%matplotlib inline\n",
    "os.chdir('C:/Kaggle/Airbnb')"
   ]
  },
  {
   "cell_type": "code",
   "execution_count": 52,
   "metadata": {
    "collapsed": false
   },
   "outputs": [],
   "source": [
    "countries=pd.read_csv('countries.csv')\n",
    "sessions=pd.read_csv('sessions.csv')\n",
    "test_users=pd.read_csv('test_users.csv')\n",
    "train_users_2=pd.read_csv('train_users_2.csv')"
   ]
  },
  {
   "cell_type": "code",
   "execution_count": 53,
   "metadata": {
    "collapsed": false
   },
   "outputs": [],
   "source": [
    "# Preprocessing of train_users_2 (unique rows: 213451, uniqu columns: id)\n",
    "#train_users_2.date_account_created=pd.to_datetime(train_users_2.date_account_created,format='%Y-%m-%d')\n",
    "#train_users_2.date_first_booking=pd.to_datetime(train_users_2.date_first_booking,format='%Y-%m-%d')\n",
    "#train_users_2.timestamp_first_active=train_users_2.timestamp_first_active.astype(str)\n",
    "#train_users_2.timestamp_first_active=pd.to_datetime((train_users_2.timestamp_first_active.str.slice(0,4,1)+ '-' + train_users_2.timestamp_first_active.str.slice(4,6,1) + '-' + train_users_2.timestamp_first_active.str.slice(6,8,1)),format='%Y-%m-%d')\n",
    "X_train=train_users_2[train_users_2['date_account_created'].str.slice(0,4,1).astype(int)>=2014]"
   ]
  },
  {
   "cell_type": "code",
   "execution_count": 54,
   "metadata": {
    "collapsed": false
   },
   "outputs": [],
   "source": [
    "#X_train.head()\n",
    "X_test=test_users\n",
    "X_test['country_destination']='NDF'\n",
    "X_train=X_train[X_train['id'].isin(sessions['user_id'].unique().tolist())]\n",
    "X_test=X_test[X_test['id'].isin(sessions['user_id'].unique().tolist())]\n",
    "sessions=sessions.rename(columns={'user_id':'id'})\n",
    "sessions=sessions[sessions['id'].isin(X_train['id'].unique().tolist()+X_test['id'].unique().tolist())]\n"
   ]
  },
  {
   "cell_type": "code",
   "execution_count": 55,
   "metadata": {
    "collapsed": false
   },
   "outputs": [],
   "source": [
    "#sessions.head()\n",
    "df_action = pd.crosstab(index=sessions['id'], columns=[sessions['action']]).fillna(0)\n",
    "df_action.reset_index(inplace=True)\n",
    "df_action.iloc[:,1:]=df_action.iloc[:,1:].clip(0,1)\n",
    "df_action.columns = ['id']+['action_' + str(col) for col in df_action.columns[1:]]\n",
    "\n",
    "df_action_type = pd.crosstab(index=sessions['id'], columns=[sessions['action_type']]).fillna(0)\n",
    "df_action_type.reset_index(inplace=True)\n",
    "df_action_type.iloc[:,1:]=df_action_type.iloc[:,1:].clip(0,1)\n",
    "df_action_type.columns = ['id']+['action_type_' + str(col) for col in df_action_type.columns[1:]]\n",
    "\n",
    "df_action_detail = pd.crosstab(index=sessions['id'], columns=[sessions['action_detail']]).fillna(0)\n",
    "df_action_detail.reset_index(inplace=True)\n",
    "df_action_detail.iloc[:,1:]=df_action_detail.iloc[:,1:].clip(0,1)\n",
    "df_action_detail.columns = ['id']+['action_detail_' + str(col) for col in df_action_detail.columns[1:]]"
   ]
  },
  {
   "cell_type": "code",
   "execution_count": 56,
   "metadata": {
    "collapsed": false
   },
   "outputs": [],
   "source": [
    "X_train=pd.merge(X_train.loc[:,('id','country_destination')],df_action,on='id',how='left')\n",
    "X_train=pd.merge(X_train,df_action_type,on='id',how='left')\n",
    "X_train=pd.merge(X_train,df_action_detail,on='id',how='left')\n",
    "X_train.fillna(0,inplace=True)\n",
    "\n",
    "X_test=pd.merge(X_test.loc[:,('id','country_destination')],df_action,on='id',how='left')\n",
    "X_test=pd.merge(X_test,df_action_type,on='id',how='left')\n",
    "X_test=pd.merge(X_test,df_action_detail,on='id',how='left')\n",
    "X_test.fillna(0,inplace=True)"
   ]
  },
  {
   "cell_type": "code",
   "execution_count": 57,
   "metadata": {
    "collapsed": true
   },
   "outputs": [],
   "source": [
    "#Saving ids\n",
    "train_id=X_train['id']\n",
    "test_id=X_test['id']"
   ]
  },
  {
   "cell_type": "code",
   "execution_count": 58,
   "metadata": {
    "collapsed": false
   },
   "outputs": [],
   "source": [
    "X_train['target']=np.where(X_train['country_destination']=='NDF',0,1)\n",
    "X_train.drop(['id','country_destination'], axis=1, inplace=True)\n",
    "X_test.drop(['id','country_destination'], axis=1, inplace=True)\n",
    "X_train=X_train.loc[:,X_train.sum()>4]\n",
    "X_test=X_test.loc[:,X_train.columns]\n",
    "X_test.drop(['target'], axis=1, inplace=True)"
   ]
  },
  {
   "cell_type": "code",
   "execution_count": 225,
   "metadata": {
    "collapsed": false
   },
   "outputs": [],
   "source": [
    "#LR process\n",
    "#1: LR with all the features\n",
    "#2: LR with higher IV features\n",
    "#3: LR with chi square independence test w/ Target\n",
    "#4: Check for multi collinearity (VIF for continous vars and chisquare test of top fields from #2 & #3 with each other)\n",
    "#5: LR Forward/backward selection methods (sklearn doesn't have this)- use RFE\n",
    "#6: LR with l1 and l2 norm\n",
    "\n",
    "#Check and compare results of all 4 outputs\n",
    "#Start with 70-30 split for train and validation -> get the final model and then cross vaidate"
   ]
  },
  {
   "cell_type": "code",
   "execution_count": 29,
   "metadata": {
    "collapsed": false
   },
   "outputs": [
    {
     "data": {
      "text/plain": [
       "14"
      ]
     },
     "execution_count": 29,
     "metadata": {},
     "output_type": "execute_result"
    }
   ],
   "source": [
    "#X_train.target.value_counts()/X_train.target.count()\n",
    "#http://scikit-learn.org/stable/modules/model_evaluation.html#scoring-parameter\n",
    "#Select the features and run:\n",
    "#Run1:runlr(X_train.iloc[:,:405], X_train.loc[:,'target'])\n",
    "#Run2:runlr(X_train.loc[:,sorted(IV,key=IV.get,reverse=True)[:100]], X_train.loc[:,'target'])\n",
    "#Run3:runlr(SelectKBest(chi2, k=100).fit_transform(X_train.iloc[:,:405], X_train.loc[:,'target']), X_train.loc[:,'target'])\n",
    "\n",
    "#Check overlap b/w VIF and chisq\n",
    "selector = SelectKBest(chi2, k=100);selector.fit(X_train.iloc[:,:405], X_train.loc[:,'target']);\n",
    "varlist=list(set().union(sorted(IV(),key=IV().get,reverse=False)[:100],X_train.iloc[:,:405][selector.get_support(indices=True)].columns))\n",
    "len(varlist)\n",
    "#Union: 186 fields\n",
    "var=list(set(X_train.iloc[:,:405][selector.get_support(indices=True)].columns) & set(sorted(IV(),key=IV().get,reverse=False)[:100]))\n",
    "len(var)\n",
    "#only 14 fields overlap\n",
    "\n",
    "#Run4 (Top IV and VIF):runlr(X_train.loc[:,var], X_train.loc[:,'target'])\n",
    "\n",
    "\n",
    "\n"
   ]
  },
  {
   "cell_type": "code",
   "execution_count": 30,
   "metadata": {
    "collapsed": false
   },
   "outputs": [
    {
     "name": "stdout",
     "output_type": "stream",
     "text": [
      "action_home_safety_terms\n",
      "action_domains\n",
      "action_office_location\n",
      "action_detail_unavailable_dates\n",
      "action_detail_manage_listing\n",
      "action_detail_view_search_results\n",
      "action_references\n",
      "action_detail_change_contact_host_dates\n",
      "action_campaigns\n",
      "action_overview\n",
      "action_apply_reservation\n",
      "action_detail_your_trips\n",
      "action_detail_translations\n",
      "action_edit\n",
      "action_detail_listing_descriptions\n",
      "action_qt2\n",
      "action_complete_status\n",
      "action_how_it_works\n",
      "action_edit_verification\n",
      "action_available\n",
      "action_phone_verification\n",
      "action_type_partner_callback\n",
      "action_pending\n",
      "action_detail_lookup_message_thread\n",
      "action_12\n",
      "action_detail_your_listings\n",
      "action_detail_place_worth\n",
      "action_verify\n",
      "action_detail_create_listing\n",
      "action_position\n",
      "action_detail_user_wishlists\n",
      "action_detail_similar_listings\n",
      "action_currencies\n",
      "action_phone_number_widget\n",
      "action_qt_with\n",
      "action_ajax_payout_edit\n",
      "action_referrer_status\n",
      "action_type_message_post\n",
      "action_detail_listing_reviews_page\n",
      "action_detail_airbnb_picks_wishlists\n",
      "action_agree_terms_check\n",
      "action_personalize\n",
      "action_place_worth\n",
      "action_notifications\n",
      "action_ajax_worth\n",
      "action_ajax_image_upload\n",
      "action_detail_oauth_login\n",
      "action_kba\n",
      "action_phone_verification_modal\n",
      "action_this_hosting_reviews\n",
      "action_delete\n",
      "action_search\n",
      "action_active\n",
      "action_home_safety_landing\n",
      "action_detail_confirm_email_link\n",
      "action_detail_update_listing\n",
      "action_detail_p5\n",
      "action_countries\n",
      "action_detail_profile_references\n",
      "action_tos_confirm\n",
      "action_detail_listing_reviews\n",
      "action_detail_reservations\n",
      "action_populate_from_facebook\n",
      "action_detail_change_trip_characteristics\n",
      "action_itinerary\n",
      "action_message_to_host_focus\n",
      "action_detail_host_home\n",
      "action_signed_out_modal\n",
      "action_set_password\n",
      "action_detail_header_userpic\n",
      "action_rate\n",
      "action_ajax_lwlb_contact\n",
      "action_confirm_email\n",
      "action_detail_post_checkout_action\n",
      "action_guarantee\n",
      "action_show_code\n",
      "action_detail_notifications\n",
      "action_unavailabilities\n",
      "action_detail_delete_listing\n",
      "action_my_listings\n",
      "action_photography\n",
      "action_manage_listing\n",
      "action_host_summary\n",
      "action_show_personalize\n",
      "action_detail_payment_instruments\n",
      "action_detect_fb_session\n",
      "action_at_checkpoint\n",
      "action_set_user\n",
      "action_payment_instruments\n",
      "action_detail_request_to_book\n",
      "action_detail_host_guarantee\n",
      "action_impressions\n",
      "action_click\n",
      "action_detail_set_password\n",
      "action_callback\n",
      "action_detail_guest_itinerary\n",
      "action_detail_request_new_confirm_email\n",
      "action_detail_user_friend_recommendations\n",
      "action_detail_update_listing_description\n",
      "action_detail_user_reviews\n",
      "action_ajax_check_dates\n",
      "action_detail_signup\n",
      "action_header_userpic\n",
      "action_similar_listings\n",
      "action_detail_wishlist_content_update\n",
      "action_detail_update_user_profile\n",
      "action_pay\n",
      "action_change_availability\n",
      "action_languages_multiselect\n",
      "action_travel_plans_current\n",
      "action_reputation\n",
      "action_detail_apply_coupon\n",
      "action_new\n",
      "action_payoneer_signup_complete\n",
      "action_detail_at_checkpoint\n",
      "action_detail_book_it\n",
      "action_detail_message_post\n",
      "action_detail_message_thread\n",
      "action_country_options\n",
      "action_host_2013\n",
      "action_detail_send_message\n",
      "action_identity\n",
      "action_popular\n",
      "action_detail_instant_book\n",
      "action_detail_pending\n",
      "action_connect\n",
      "action_ajax_photo_widget_form_iframe\n",
      "action_relationship\n",
      "action_requested\n",
      "action_detail_create_phone_numbers\n",
      "action_jumio_redirect\n",
      "action_detail_message_to_host_focus\n",
      "action_ajax_payout_options_by_country\n",
      "action_detail_contact_host\n",
      "action_detail_user_profile_content_update\n",
      "action_detail_trip_availability\n",
      "action_profile_pic\n",
      "action_payout_update\n",
      "action_update\n",
      "action_why_host\n",
      "action_detail_list_your_space\n",
      "action_detail_edit_profile\n",
      "action_detail_your_reservations\n",
      "action_request_new_confirm_email\n",
      "action_create_paypal\n",
      "action_listings\n",
      "action_message_to_host_change\n",
      "action_detail_message_to_host_change\n",
      "action_check\n",
      "action_jumio_token\n",
      "action_detail_cancellation_policies\n",
      "action_qt_reply_v2\n",
      "action_payoneer_account_redirect\n",
      "action_detail_change_availability\n",
      "action_detail_dashboard\n",
      "action_detail_view_listing\n",
      "action_detail_update_user\n",
      "action_dashboard\n",
      "action_invalid_action\n",
      "action_detail_listing_recommendations\n",
      "action_complete_redirect\n",
      "action_reviews\n",
      "action_ask_question\n",
      "action_ajax_statsd\n",
      "action_type_booking_request\n",
      "action_detail_calculate_worth\n",
      "action_detail_user_social_connections\n",
      "action_detail_p1\n",
      "action_recommend\n",
      "action_detail_oauth_response\n",
      "action_ajax_refresh_subtotal\n",
      "action_recommendations\n",
      "action_detail_user_listings\n",
      "action_social_connections\n",
      "action_uptodate\n",
      "action_kba_update\n",
      "action_cancellation_policies\n",
      "action_reviews_new\n",
      "action_airbnb_picks\n",
      "action_departments\n",
      "action_hospitality\n",
      "action_collections\n",
      "action_apply_code\n",
      "action_detail_popular_wishlists\n",
      "action_detail_p4\n",
      "action_detail_profile_verifications\n"
     ]
    },
    {
     "data": {
      "text/plain": [
       "['action_detail_translations',\n",
       " 'action_home_safety_landing',\n",
       " 'action_how_it_works',\n",
       " 'action_phone_verification',\n",
       " 'action_set_password',\n",
       " 'action_country_options',\n",
       " 'action_detail_airbnb_picks_wishlists',\n",
       " 'action_airbnb_picks',\n",
       " 'action_detail_place_worth',\n",
       " 'action_place_worth',\n",
       " 'action_rate',\n",
       " 'action_guarantee',\n",
       " 'action_detail_host_guarantee',\n",
       " 'action_show_code',\n",
       " 'action_detail_create_phone_numbers',\n",
       " 'action_reputation',\n",
       " 'action_popular',\n",
       " 'action_detail_popular_wishlists',\n",
       " 'action_change_availability',\n",
       " 'action_position',\n",
       " 'action_detail_listing_reviews_page',\n",
       " 'action_this_hosting_reviews',\n",
       " 'action_host_summary',\n",
       " 'action_tos_confirm',\n",
       " 'action_ajax_payout_edit',\n",
       " 'action_detail_your_listings',\n",
       " 'action_relationship',\n",
       " 'action_type_booking_request',\n",
       " 'action_detail_change_trip_characteristics',\n",
       " 'action_ajax_refresh_subtotal',\n",
       " 'action_detect_fb_session',\n",
       " 'action_referrer_status',\n",
       " 'action_detail_header_userpic',\n",
       " 'action_header_userpic',\n",
       " 'action_host_2013',\n",
       " 'action_detail_reservations',\n",
       " 'action_type_message_post',\n",
       " 'action_detail_message_post',\n",
       " 'action_signed_out_modal',\n",
       " 'action_uptodate',\n",
       " 'action_campaigns',\n",
       " 'action_delete',\n",
       " 'action_invalid_action',\n",
       " 'action_detail_user_reviews',\n",
       " 'action_detail_create_listing',\n",
       " 'action_references',\n",
       " 'action_detail_profile_references',\n",
       " 'action_domains',\n",
       " 'action_search',\n",
       " 'action_confirm_email',\n",
       " 'action_hospitality',\n",
       " 'action_verify',\n",
       " 'action_why_host']"
      ]
     },
     "execution_count": 30,
     "metadata": {},
     "output_type": "execute_result"
    }
   ],
   "source": [
    "#Checking chi sqaure independence test of 186 fields\n",
    "from scipy.stats import chi2_contingency\n",
    "len(varlist)\n",
    "chi={}\n",
    "a1=[]\n",
    "for col in varlist:\n",
    "    print(col)\n",
    "    chi[col]=[]\n",
    "    for v in np.arange(0,len(varlist),1):\n",
    "        #print(v)\n",
    "        if varlist.index(col)==v:\n",
    "            chi[col].append(col)\n",
    "        else:\n",
    "            if chi2_contingency(np.array(pd.crosstab(X_train.loc[:,col],X_train.loc[:,varlist[v]])))[1]==0:\n",
    "                chi[col].append(varlist[v])\n",
    "                \n",
    "feimp={}\n",
    "for col in varlist:\n",
    "    feimp[col]=chi2_contingency(np.array(pd.crosstab(X_train.loc[:,col],X_train.loc[:,\"target\"])))[0]\n",
    "    \n",
    "feimp1=pd.DataFrame([[key,value] for key,value in feimp.items()],columns=[\"var\",\"value\"])\n",
    "chi1=[]\n",
    "for i in varlist:\n",
    "    chi1.append(pd.merge(pd.DataFrame(chi[i],columns=[\"var\"]),feimp1,how='left',on='var').value.max())\n",
    "len(chi1)\n",
    "final_var=pd.merge(pd.DataFrame(list(set(chi1)),columns=[\"value\"]),feimp1,how='left',on='value')\n",
    "vars=list(final_var.loc[:,\"var\"])\n",
    "vars"
   ]
  },
  {
   "cell_type": "code",
   "execution_count": 32,
   "metadata": {
    "collapsed": false
   },
   "outputs": [
    {
     "name": "stdout",
     "output_type": "stream",
     "text": [
      "Features sorted by their rank:\n",
      "[(1, 'action_phone_verification'), (2, 'action_show_code'), (3, 'action_type_booking_request'), (4, 'action_change_availability'), (5, 'action_invalid_action'), (6, 'action_reputation'), (7, 'action_how_it_works'), (8, 'action_detail_listing_reviews_page'), (9, 'action_host_2013'), (10, 'action_type_message_post'), (11, 'action_relationship'), (12, 'action_airbnb_picks'), (13, 'action_detail_create_listing'), (14, 'action_position'), (15, 'action_detail_create_phone_numbers'), (16, 'action_rate'), (17, 'action_signed_out_modal'), (18, 'action_ajax_refresh_subtotal'), (19, 'action_place_worth'), (20, 'action_references'), (21, 'action_detail_airbnb_picks_wishlists'), (22, 'action_this_hosting_reviews'), (23, 'action_host_summary'), (24, 'action_country_options'), (25, 'action_confirm_email'), (26, 'action_detail_translations'), (27, 'action_detect_fb_session'), (28, 'action_detail_message_post'), (29, 'action_tos_confirm'), (30, 'action_detail_host_guarantee'), (31, 'action_popular'), (32, 'action_detail_place_worth'), (33, 'action_campaigns'), (34, 'action_detail_reservations'), (35, 'action_verify'), (36, 'action_detail_profile_references'), (37, 'action_detail_change_trip_characteristics'), (38, 'action_domains'), (39, 'action_detail_user_reviews'), (40, 'action_why_host'), (41, 'action_detail_popular_wishlists'), (42, 'action_guarantee'), (43, 'action_hospitality'), (44, 'action_delete'), (45, 'action_search'), (46, 'action_detail_your_listings'), (47, 'action_set_password'), (48, 'action_uptodate'), (49, 'action_home_safety_landing'), (50, 'action_referrer_status'), (51, 'action_detail_header_userpic'), (52, 'action_ajax_payout_edit'), (53, 'action_header_userpic')]\n",
      " accuracy: 0.712023278009 AUC: 0.725991801648 percision: 0.781545606244 recall: 0.362653915951\n"
     ]
    }
   ],
   "source": [
    "# Run RFE using independent features vars (53 features)\n",
    "vars\n",
    "rfe = RFE(estimator=linear_model.LogisticRegression(C=1e5), n_features_to_select=1, step=1)\n",
    "rfe.fit(X_train.loc[:,vars], X_train.loc[:,\"target\"])\n",
    "print(\"Features sorted by their rank:\")\n",
    "print(sorted(zip(map(lambda x: round(x, 4), rfe.ranking_), vars)))\n",
    "rfeout=pd.DataFrame(sorted(zip(map(lambda x: round(x, 4), rfe.ranking_), vars)))\n",
    "rfeoutvars=list(rfeout.iloc[:,1])\n",
    "rfeoutvars\n",
    "# Run8: runlr(X_train.loc[:,rfeoutvars[:20]], X_train.loc[:,'target'])\n",
    "\n",
    "# L1 regression with 53 vars\n",
    "runlr(X_train.loc[:,rfeoutvars[:20]],X_train.loc[:,'target'])\n",
    "\n",
    "# L2 regression with same 53 vars\n",
    "#runlr(X_train.loc[:,rfeoutvars[:20]],X_train.loc[:,'target'])\n",
    "#Default value is L2- just change the value of C paramters- High C->low regularisation. After fixing the features-choose C based on cross validation\n",
    "# Select top features after RFE and evaluate\n",
    "# Run L1 and L2 on above features and evaluate\n"
   ]
  },
  {
   "cell_type": "code",
   "execution_count": 31,
   "metadata": {
    "collapsed": false
   },
   "outputs": [
    {
     "data": {
      "text/plain": [
       "53"
      ]
     },
     "execution_count": 31,
     "metadata": {},
     "output_type": "execute_result"
    }
   ],
   "source": [
    "len(vars)"
   ]
  },
  {
   "cell_type": "code",
   "execution_count": 24,
   "metadata": {
    "collapsed": false
   },
   "outputs": [],
   "source": [
    "#LR function\n",
    "from sklearn.linear_model import LogisticRegression\n",
    "from sklearn import linear_model,datasets,metrics\n",
    "from sklearn.cross_validation import train_test_split,cross_val_score\n",
    "from sklearn.feature_selection import chi2, RFE,SelectKBest\n",
    "\n",
    "def runlr(X,y):\n",
    "    model=linear_model.LogisticRegression(C=1e5)\n",
    "    model.fit(X,y)\n",
    "    accu = cross_val_score(LogisticRegression(C=1e5), X, y, scoring='accuracy', cv=10)\n",
    "    auc = cross_val_score(LogisticRegression(C=1e5), X, y, scoring='roc_auc', cv=10)\n",
    "    preci = cross_val_score(LogisticRegression(C=1e5), X, y, scoring='precision', cv=10)\n",
    "    recal = cross_val_score(LogisticRegression(C=1e5), X, y, scoring='recall', cv=10)\n",
    "    print(\" accuracy: \" + str(accu.mean()) +\" AUC: \" + str(auc.mean()) + \" percision: \" + str(preci.mean()) + \" recall: \" + str(recal.mean()))\n",
    "    #X_test['pred']=model.predict_proba(X_test)\n",
    "    #print parameters, coeff,waldchisq,std.error\n",
    "    #pd.concat([pd.DataFrame(X_train.loc[:,sorted(IV,key=IV.get,reverse=True)[:100]].columns),pd.DataFrame(np.transpose(model.coef_))], axis = 1).to_csv('./model.csv')\n",
    "    #selector = SelectKBest(chi2, k=100);selector.fit(X_train.iloc[:,:405], X_train.loc[:,'target']);\n",
    "    #pd.concat([pd.DataFrame(X_train.iloc[:,:405][selector.get_support(indices=True)].columns),pd.DataFrame(np.transpose(model.coef_))], axis = 1).to_csv('./model.csv')\n",
    "    #pd.concat([pd.DataFrame(X_train.loc[:,var]),pd.DataFrame(np.transpose(model.coef_))], axis = 1).to_csv('./model.csv')\n",
    "    pd.concat([pd.DataFrame(X_train.loc[:,rfeoutvars[:20]].columns),pd.DataFrame(np.transpose(model.coef_))], axis = 1).to_csv('./model.csv')\n",
    "    \n",
    "    \n",
    "# calculating IV for all factors\n",
    "def IV():\n",
    "    IV={}\n",
    "    for col in np.setdiff1d(X_train.columns,[\"target\"]):\n",
    "        a=pd.crosstab(X_train[col],X_train['target']).apply(lambda r: r/r.sum(), axis=1).loc[0,1]\n",
    "        IV[col]=((2*a)-1)*np.log(a/(1-a))\n",
    "    return(IV)"
   ]
  },
  {
   "cell_type": "code",
   "execution_count": 65,
   "metadata": {
    "collapsed": false
   },
   "outputs": [],
   "source": [
    "model=linear_model.LogisticRegression(C=1e5)\n",
    "model.fit(X_train.loc[:,rfeoutvars[:20]],X_train.loc[:,'target'])\n",
    "train_p=model.predict_proba(X_train.loc[:,rfeoutvars[:20]])\n",
    "test_p=model.predict_proba(X_test.loc[:,rfeoutvars[:20]])"
   ]
  },
  {
   "cell_type": "code",
   "execution_count": 66,
   "metadata": {
    "collapsed": false
   },
   "outputs": [],
   "source": [
    "train_p=pd.DataFrame(pd.concat([pd.DataFrame(train_id),pd.DataFrame(train_p).iloc[:,1]],axis=1))\n",
    "test_p=pd.DataFrame(pd.concat([pd.DataFrame(test_id),pd.DataFrame(test_p).iloc[:,1]],axis=1))"
   ]
  },
  {
   "cell_type": "code",
   "execution_count": 69,
   "metadata": {
    "collapsed": false
   },
   "outputs": [],
   "source": [
    "test_p.to_csv('./test_p.csv')\n",
    "train_p.to_csv('./train_p.csv')"
   ]
  },
  {
   "cell_type": "code",
   "execution_count": null,
   "metadata": {
    "collapsed": true
   },
   "outputs": [],
   "source": [
    "#Part-2 Predicting country of booking"
   ]
  },
  {
   "cell_type": "code",
   "execution_count": 70,
   "metadata": {
    "collapsed": false
   },
   "outputs": [
    {
     "ename": "ImportError",
     "evalue": "No module named 'pycrfsuite'",
     "output_type": "error",
     "traceback": [
      "\u001b[0;31m---------------------------------------------------------------------------\u001b[0m",
      "\u001b[0;31mImportError\u001b[0m                               Traceback (most recent call last)",
      "\u001b[0;32m<ipython-input-70-79563fc16b6a>\u001b[0m in \u001b[0;36m<module>\u001b[0;34m()\u001b[0m\n\u001b[0;32m----> 1\u001b[0;31m \u001b[1;32mimport\u001b[0m \u001b[0mpycrfsuite\u001b[0m\u001b[1;33m\u001b[0m\u001b[0m\n\u001b[0m",
      "\u001b[0;31mImportError\u001b[0m: No module named 'pycrfsuite'"
     ]
    }
   ],
   "source": [
    "import pycrfsuite"
   ]
  }
 ],
 "metadata": {
  "anaconda-cloud": {},
  "kernelspec": {
   "display_name": "Python [default]",
   "language": "python",
   "name": "python3"
  },
  "language_info": {
   "codemirror_mode": {
    "name": "ipython",
    "version": 3
   },
   "file_extension": ".py",
   "mimetype": "text/x-python",
   "name": "python",
   "nbconvert_exporter": "python",
   "pygments_lexer": "ipython3",
   "version": "3.5.2"
  }
 },
 "nbformat": 4,
 "nbformat_minor": 1
}
